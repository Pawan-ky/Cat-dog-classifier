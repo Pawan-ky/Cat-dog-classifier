{
  "nbformat": 4,
  "nbformat_minor": 0,
  "metadata": {
    "colab": {
      "name": "Cat_dog_classifier.ipynb",
      "provenance": [],
      "collapsed_sections": []
    },
    "kernelspec": {
      "name": "python3",
      "display_name": "Python 3"
    },
    "accelerator": "GPU"
  },
  "cells": [
    {
      "cell_type": "code",
      "metadata": {
        "colab": {
          "base_uri": "https://localhost:8080/"
        },
        "id": "nXd4b9lYeINV",
        "outputId": "2aba4461-14be-432b-d6e4-38ab3639724a"
      },
      "source": [
        "%cd /content/drive/MyDrive/Colab Notebooks/Kaggle"
      ],
      "execution_count": null,
      "outputs": [
        {
          "output_type": "stream",
          "text": [
            "/content/drive/MyDrive/Colab Notebooks/Kaggle\n"
          ],
          "name": "stdout"
        }
      ]
    },
    {
      "cell_type": "code",
      "metadata": {
        "colab": {
          "base_uri": "https://localhost:8080/",
          "height": 35
        },
        "id": "9FWipoeJe5tC",
        "outputId": "2e2b95ab-69f2-4ec3-88bd-178b93f06872"
      },
      "source": [
        "pwd"
      ],
      "execution_count": null,
      "outputs": [
        {
          "output_type": "execute_result",
          "data": {
            "application/vnd.google.colaboratory.intrinsic+json": {
              "type": "string"
            },
            "text/plain": [
              "'/content/drive/MyDrive/Colab Notebooks/Kaggle'"
            ]
          },
          "metadata": {
            "tags": []
          },
          "execution_count": 2
        }
      ]
    },
    {
      "cell_type": "code",
      "metadata": {
        "id": "iNvzgD-ufSBi"
      },
      "source": [
        ""
      ],
      "execution_count": null,
      "outputs": []
    },
    {
      "cell_type": "code",
      "metadata": {
        "id": "jQNRr95ze69B"
      },
      "source": [
        "# Importing the libraries\r\n",
        "import tensorflow as tf\r\n",
        "from tensorflow.keras.preprocessing.image import ImageDataGenerator"
      ],
      "execution_count": null,
      "outputs": []
    },
    {
      "cell_type": "code",
      "metadata": {
        "id": "GtVTtkyafAah"
      },
      "source": [
        "# Part 1 - Data Preprocessing\r\n",
        "\r\n",
        "# Preprocessing the Training set\r\n",
        "train_datagen = ImageDataGenerator(rescale = 1./255,\r\n",
        "                                   shear_range = 0.2,\r\n",
        "                                   zoom_range = 0.2,\r\n",
        "                                   horizontal_flip = True)\r\n",
        "\r\n",
        "# Preprocessing the Test set\r\n",
        "test_datagen = ImageDataGenerator(rescale = 1./255)"
      ],
      "execution_count": null,
      "outputs": []
    },
    {
      "cell_type": "code",
      "metadata": {
        "colab": {
          "base_uri": "https://localhost:8080/"
        },
        "id": "7Qf1HTeFfGIP",
        "outputId": "f5f3a48f-98ce-48a3-c79d-cbe6deca1caf"
      },
      "source": [
        "\r\n",
        "training_set = train_datagen.flow_from_directory('/content/drive/MyDrive/Colab Notebooks/Kaggle/dataset_cat_dog/training_set',\r\n",
        "                                                 target_size = (64, 64),\r\n",
        "                                                 batch_size = 32,\r\n",
        "                                                 class_mode = 'binary')\r\n",
        "\r\n",
        "test_set = test_datagen.flow_from_directory('/content/drive/MyDrive/Colab Notebooks/Kaggle/dataset_cat_dog/test_set',\r\n",
        "                                            target_size = (64, 64),\r\n",
        "                                            batch_size = 32,\r\n",
        "                                            class_mode = 'binary')"
      ],
      "execution_count": null,
      "outputs": [
        {
          "output_type": "stream",
          "text": [
            "Found 8000 images belonging to 2 classes.\n",
            "Found 2000 images belonging to 2 classes.\n"
          ],
          "name": "stdout"
        }
      ]
    },
    {
      "cell_type": "code",
      "metadata": {
        "id": "JKxxuv5NgYHd"
      },
      "source": [
        "from tensorflow.keras.layers import Conv2D"
      ],
      "execution_count": null,
      "outputs": []
    },
    {
      "cell_type": "code",
      "metadata": {
        "id": "-SPixmY3gYEM"
      },
      "source": [
        "\r\n",
        "# Initialising the CNN\r\n",
        "cnn = tf.keras.models.Sequential()\r\n",
        "\r\n",
        "# Step 1 - Convolution\r\n",
        "cnn.add(tf.keras.layers.Conv2D(filters=32,padding=\"same\",kernel_size=3, activation='relu', input_shape=[64, 64, 3]))\r\n",
        "\r\n",
        "# Step 2 - Pooling\r\n",
        "cnn.add(tf.keras.layers.MaxPool2D(pool_size=2, strides=2))\r\n",
        "\r\n",
        "# Adding a second convolutional layer\r\n",
        "cnn.add(tf.keras.layers.Conv2D(filters=32,padding='same',kernel_size=3, activation='relu'))\r\n",
        "cnn.add(tf.keras.layers.MaxPool2D(pool_size=2, strides=2))\r\n",
        "\r\n",
        "# Step 3 - Flattening\r\n",
        "cnn.add(tf.keras.layers.Flatten())\r\n",
        "\r\n",
        "# Step 4 - Full Connection\r\n",
        "cnn.add(tf.keras.layers.Dense(units=128, activation='relu'))\r\n",
        "cnn.add(tf.keras.layers.Dense(units=128, activation='relu'))\r\n",
        "cnn.add(tf.keras.layers.Dense(units=64, activation='relu'))\r\n",
        "\r\n",
        "# Step 5 - Output Layer\r\n",
        "cnn.add(tf.keras.layers.Dense(units=1, activation='sigmoid'))"
      ],
      "execution_count": null,
      "outputs": []
    },
    {
      "cell_type": "code",
      "metadata": {
        "colab": {
          "base_uri": "https://localhost:8080/"
        },
        "id": "P1s5_vmLgX_D",
        "outputId": "e26924d2-7cf6-47c5-b737-9c028c26479a"
      },
      "source": [
        "cnn.summary()"
      ],
      "execution_count": null,
      "outputs": [
        {
          "output_type": "stream",
          "text": [
            "Model: \"sequential\"\n",
            "_________________________________________________________________\n",
            "Layer (type)                 Output Shape              Param #   \n",
            "=================================================================\n",
            "conv2d (Conv2D)              (None, 64, 64, 32)        896       \n",
            "_________________________________________________________________\n",
            "max_pooling2d (MaxPooling2D) (None, 32, 32, 32)        0         \n",
            "_________________________________________________________________\n",
            "conv2d_1 (Conv2D)            (None, 32, 32, 32)        9248      \n",
            "_________________________________________________________________\n",
            "max_pooling2d_1 (MaxPooling2 (None, 16, 16, 32)        0         \n",
            "_________________________________________________________________\n",
            "flatten (Flatten)            (None, 8192)              0         \n",
            "_________________________________________________________________\n",
            "dense (Dense)                (None, 128)               1048704   \n",
            "_________________________________________________________________\n",
            "dense_1 (Dense)              (None, 128)               16512     \n",
            "_________________________________________________________________\n",
            "dense_2 (Dense)              (None, 64)                8256      \n",
            "_________________________________________________________________\n",
            "dense_3 (Dense)              (None, 1)                 65        \n",
            "=================================================================\n",
            "Total params: 1,083,681\n",
            "Trainable params: 1,083,681\n",
            "Non-trainable params: 0\n",
            "_________________________________________________________________\n"
          ],
          "name": "stdout"
        }
      ]
    },
    {
      "cell_type": "code",
      "metadata": {
        "colab": {
          "base_uri": "https://localhost:8080/"
        },
        "id": "1rHXW9k1hIQP",
        "outputId": "d9d06d06-16c0-4bd2-c772-e3145a958e7d"
      },
      "source": [
        "# Part 3 - Training the CNN\r\n",
        "\r\n",
        "# Compiling the CNN\r\n",
        "cnn.compile(optimizer = 'adam', loss = 'binary_crossentropy', metrics = ['accuracy'])\r\n",
        "\r\n",
        "# Training the CNN on the Training set and evaluating it on the Test set\r\n",
        "cnn.fit(x = training_set, validation_data = test_set, epochs = 15)"
      ],
      "execution_count": null,
      "outputs": [
        {
          "output_type": "stream",
          "text": [
            "Epoch 1/15\n",
            "250/250 [==============================] - 45s 171ms/step - loss: 0.6909 - accuracy: 0.5321 - val_loss: 0.6240 - val_accuracy: 0.6685\n",
            "Epoch 2/15\n",
            "250/250 [==============================] - 42s 168ms/step - loss: 0.6165 - accuracy: 0.6614 - val_loss: 0.5792 - val_accuracy: 0.6975\n",
            "Epoch 3/15\n",
            "250/250 [==============================] - 42s 170ms/step - loss: 0.5806 - accuracy: 0.6955 - val_loss: 0.5884 - val_accuracy: 0.7035\n",
            "Epoch 4/15\n",
            "250/250 [==============================] - 42s 168ms/step - loss: 0.5534 - accuracy: 0.7158 - val_loss: 0.5287 - val_accuracy: 0.7375\n",
            "Epoch 5/15\n",
            "250/250 [==============================] - 43s 171ms/step - loss: 0.5457 - accuracy: 0.7186 - val_loss: 0.5368 - val_accuracy: 0.7305\n",
            "Epoch 6/15\n",
            "250/250 [==============================] - 43s 174ms/step - loss: 0.5102 - accuracy: 0.7439 - val_loss: 0.5209 - val_accuracy: 0.7425\n",
            "Epoch 7/15\n",
            "250/250 [==============================] - 43s 170ms/step - loss: 0.4959 - accuracy: 0.7645 - val_loss: 0.5257 - val_accuracy: 0.7410\n",
            "Epoch 8/15\n",
            "250/250 [==============================] - 43s 171ms/step - loss: 0.4831 - accuracy: 0.7656 - val_loss: 0.4930 - val_accuracy: 0.7590\n",
            "Epoch 9/15\n",
            "250/250 [==============================] - 43s 170ms/step - loss: 0.4562 - accuracy: 0.7831 - val_loss: 0.5104 - val_accuracy: 0.7565\n",
            "Epoch 10/15\n",
            "250/250 [==============================] - 43s 173ms/step - loss: 0.4388 - accuracy: 0.7975 - val_loss: 0.4830 - val_accuracy: 0.7695\n",
            "Epoch 11/15\n",
            "250/250 [==============================] - 43s 171ms/step - loss: 0.4290 - accuracy: 0.7946 - val_loss: 0.4926 - val_accuracy: 0.7695\n",
            "Epoch 12/15\n",
            "250/250 [==============================] - 43s 172ms/step - loss: 0.4169 - accuracy: 0.8064 - val_loss: 0.5026 - val_accuracy: 0.7575\n",
            "Epoch 13/15\n",
            "250/250 [==============================] - 43s 172ms/step - loss: 0.3917 - accuracy: 0.8233 - val_loss: 0.5055 - val_accuracy: 0.7740\n",
            "Epoch 14/15\n",
            "250/250 [==============================] - 44s 175ms/step - loss: 0.3994 - accuracy: 0.8107 - val_loss: 0.4838 - val_accuracy: 0.7715\n",
            "Epoch 15/15\n",
            "250/250 [==============================] - 43s 171ms/step - loss: 0.3644 - accuracy: 0.8369 - val_loss: 0.5239 - val_accuracy: 0.7660\n"
          ],
          "name": "stdout"
        },
        {
          "output_type": "execute_result",
          "data": {
            "text/plain": [
              "<tensorflow.python.keras.callbacks.History at 0x7f34102dff28>"
            ]
          },
          "metadata": {
            "tags": []
          },
          "execution_count": 9
        }
      ]
    },
    {
      "cell_type": "code",
      "metadata": {
        "id": "sNZt9JnMhcIG"
      },
      "source": [
        "from tensorflow.keras.models import load_model\r\n",
        "\r\n",
        "cnn.save('/content/drive/MyDrive/Colab Notebooks/Kaggle/model_cat_dog.h5')"
      ],
      "execution_count": null,
      "outputs": []
    },
    {
      "cell_type": "code",
      "metadata": {
        "id": "6CAviUIQ29BB"
      },
      "source": [
        ""
      ],
      "execution_count": null,
      "outputs": []
    },
    {
      "cell_type": "code",
      "metadata": {
        "id": "64s5PgwGiMVR"
      },
      "source": [
        "# load model\r\n",
        "model = load_model('/content/drive/MyDrive/Colab Notebooks/Kaggle/model_cat_dog.h5')"
      ],
      "execution_count": null,
      "outputs": []
    },
    {
      "cell_type": "code",
      "metadata": {
        "colab": {
          "base_uri": "https://localhost:8080/"
        },
        "id": "VW4MrgNK8KBO",
        "outputId": "0fe0089f-afb1-4c4e-c2f0-3e46e851f417"
      },
      "source": [
        "training_set.class_indices"
      ],
      "execution_count": null,
      "outputs": [
        {
          "output_type": "execute_result",
          "data": {
            "text/plain": [
              "{'cats': 0, 'dogs': 1}"
            ]
          },
          "metadata": {
            "tags": []
          },
          "execution_count": 19
        }
      ]
    },
    {
      "cell_type": "code",
      "metadata": {
        "id": "wwJr9BPyiMQn"
      },
      "source": [
        "# Part 4 - Making a single prediction\r\n",
        "\r\n",
        "import numpy as np\r\n",
        "from tensorflow.keras.preprocessing import image\r\n",
        "test_image = image.load_img('/content/drive/MyDrive/Colab Notebooks/Kaggle/cat/photo-1570534536531-c3def02ad855.jpg', target_size = (64,64))\r\n",
        "test_image = image.img_to_array(test_image)\r\n",
        "test_image=test_image/255\r\n",
        "test_image = np.expand_dims(test_image, axis = 0)\r\n",
        "result = cnn.predict(test_image)"
      ],
      "execution_count": null,
      "outputs": []
    },
    {
      "cell_type": "code",
      "metadata": {
        "colab": {
          "base_uri": "https://localhost:8080/"
        },
        "id": "xZezbmKR9hGh",
        "outputId": "59fad228-6650-4854-c782-2e5518850ce9"
      },
      "source": [
        "result[0][0]"
      ],
      "execution_count": null,
      "outputs": [
        {
          "output_type": "execute_result",
          "data": {
            "text/plain": [
              "0.34687993"
            ]
          },
          "metadata": {
            "tags": []
          },
          "execution_count": 46
        }
      ]
    },
    {
      "cell_type": "code",
      "metadata": {
        "id": "jxoHvqyjkKcX",
        "colab": {
          "base_uri": "https://localhost:8080/"
        },
        "outputId": "d232afbd-e9c7-4728-878e-aa2fd70f041c"
      },
      "source": [
        "if result[0]<0.5:\r\n",
        "\r\n",
        "  print('cat')\r\n",
        "else:\r\n",
        "  print('Dog')"
      ],
      "execution_count": null,
      "outputs": [
        {
          "output_type": "stream",
          "text": [
            "cat\n"
          ],
          "name": "stdout"
        }
      ]
    },
    {
      "cell_type": "code",
      "metadata": {
        "id": "Axrbsp9j9C33"
      },
      "source": [
        ""
      ],
      "execution_count": null,
      "outputs": []
    }
  ]
}